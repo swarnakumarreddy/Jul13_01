{
  "cells": [
    {
      "cell_type": "markdown",
      "metadata": {
        "id": "view-in-github",
        "colab_type": "text"
      },
      "source": [
        "<a href=\"https://colab.research.google.com/github/swarnakumarreddy/Jul13_01/blob/main/Python_Practice.ipynb\" target=\"_parent\"><img src=\"https://colab.research.google.com/assets/colab-badge.svg\" alt=\"Open In Colab\"/></a>"
      ]
    },
    {
      "cell_type": "code",
      "execution_count": null,
      "metadata": {
        "colab": {
          "base_uri": "https://localhost:8080/"
        },
        "id": "JON7RFVXXzcS",
        "outputId": "18cb4cd5-ee3b-4b41-ec3c-f744791671a2"
      },
      "outputs": [
        {
          "output_type": "stream",
          "name": "stdout",
          "text": [
            "The Conditional was True\n",
            "a == b are EQUAL\n",
            "No match\n"
          ]
        }
      ],
      "source": [
        "# If condition was true\n",
        "language = 'Python'\n",
        "if language == \"Python\":\n",
        "    print('The Conditional was True')\n",
        "\n",
        "# Elif Statement\n",
        "a = 100\n",
        "b = 100\n",
        "if a > b:\n",
        "  print (\"a is greater\")\n",
        "elif a == b:\n",
        "  print(\"a == b are EQUAL\")\n",
        "else:\n",
        "  print ('None of the Above')\n",
        "\n",
        "# If else statement\n",
        "if language == \"Java\":\n",
        "    print('Language is python')\n",
        "else:\n",
        "    print('No match')\n"
      ]
    },
    {
      "cell_type": "code",
      "source": [
        "#Pyhon API Example1\n",
        "\n",
        "import requests\n",
        "\n",
        "API_KEY = 'd82a106eb903466e9b5addc0ddda5b7c'\n",
        "\n",
        "def fetch_and_print_articles(api_url, headers):\n",
        "    response = requests.get(api_url, headers=headers)\n",
        "\n",
        "    if response.status_code == 200:\n",
        "        articles = response.json().get('articles', [])\n",
        "\n",
        "        for index, article in enumerate(articles[:1], start=1):\n",
        "            print(f\"Article {index}:\\n{json.dumps(article, sort_keys=True, indent=4)}\\n\")\n",
        "    else:\n",
        "        print(f\"Error: {response.status_code}\")\n",
        "\n",
        "headers = {\n",
        "\"Authorization\": f\"Bearer {API_KEY}\"\n",
        "}\n",
        "\n",
        "url = f\"https://newsapi.org/v2/top-headlines?country=us&category=politics\"\n",
        "fetch_and_print_articles(url, headers)\n",
        "\n",
        "\n",
        "# Businiess NEWS\n",
        "url = f\"https://newsapi.org/v2/top-headlines?country=us&category=business\"\n",
        "print(\"###############################   Business NEWS   ###############################\")\n",
        "fetch_and_print_articles(url, headers)\n"
      ],
      "metadata": {
        "colab": {
          "base_uri": "https://localhost:8080/"
        },
        "id": "yGRjl9Nysjor",
        "outputId": "c9747b00-f2d0-4674-939d-5ec1f3a24ac8"
      },
      "execution_count": 24,
      "outputs": [
        {
          "output_type": "stream",
          "name": "stdout",
          "text": [
            "Article 1:\n",
            "{\n",
            "    \"author\": \"Brad Lendon\",\n",
            "    \"content\": \"The deadly conflict on the Thai-Cambodian border pits a longtime United States ally with decades of experience against a relatively young armed force with close ties to China.\\r\\nBangkok and Phnom Penh\\u2026 [+6789 chars]\",\n",
            "    \"description\": \"The deadly conflict on the Thai-Cambodian border pits a longtime United States ally with decades of experience against a relatively young armed force with close ties to China.\",\n",
            "    \"publishedAt\": \"2025-07-26T06:13:00Z\",\n",
            "    \"source\": {\n",
            "        \"id\": \"cnn\",\n",
            "        \"name\": \"CNN\"\n",
            "    },\n",
            "    \"title\": \"Thai-Cambodian conflict pits a well-equipped US ally against a weaker adversary with strong China links - CNN\",\n",
            "    \"url\": \"https://www.cnn.com/2025/07/25/asia/thailand-cambodia-conflict-military-comparison-intl-hnk-ml\",\n",
            "    \"urlToImage\": \"https://media.cnn.com/api/v1/images/stellar/prod/gettyimages-1246329694-20250725081507234.jpg?c=16x9&q=w_800,c_fill\"\n",
            "}\n",
            "\n",
            "###############################   Business NEWS   ###############################\n",
            "Article 1:\n",
            "{\n",
            "    \"author\": null,\n",
            "    \"content\": \"CAMBRIDGE, Mass.\\r\\n--(BUSINESS WIRE)--Jul. 25, 2025--\\r\\nSarepta Therapeutics, Inc.\\r\\n (NASDAQ:SRPT), the leader in precision genetic medicine for rare diseases, today issued the following statement:\\r\\nJu\\u2026 [+10510 chars]\",\n",
            "    \"description\": \"CAMBRIDGE, Mass. --(BUSINESS WIRE)--Jul. 25, 2025-- Sarepta Therapeutics, Inc. (NASDAQ:SRPT), the leader in precision genetic medicine for rare diseases, today issued the following statement: Just before 6:00 p.m. ET today, the U.S. Food and Drug Administrati\\u2026\",\n",
            "    \"publishedAt\": \"2025-07-25T23:51:00Z\",\n",
            "    \"source\": {\n",
            "        \"id\": null,\n",
            "        \"name\": \"Sarepta.com\"\n",
            "    },\n",
            "    \"title\": \"Sarepta Therapeutics Provides Clarifying Statement on ELEVIDYS - Sarepta Therapeutics\",\n",
            "    \"url\": \"https://investorrelations.sarepta.com/news-releases/news-release-details/sarepta-therapeutics-provides-clarifying-statement-elevidys\",\n",
            "    \"urlToImage\": \"https://investorrelations.sarepta.com/static-files/d0b28561-f14e-4a81-8ebf-739357b1b541\"\n",
            "}\n",
            "\n"
          ]
        }
      ]
    },
    {
      "cell_type": "code",
      "source": [
        "\n",
        "# Python API Example2\n",
        "\n",
        "import json\n",
        "import requests\n",
        "\n",
        "def fetch_and_print_articles(api_url):\n",
        "    response = requests.get(api_url)\n",
        "\n",
        "    if response.status_code == 200:\n",
        "        articles = response.json().get('articles', [])\n",
        "\n",
        "        for index, article in enumerate(articles[:1], start=1):\n",
        "            print(f\"Article {index}:\\n{json.dumps(article, sort_keys=True, indent=4)}\\n\")\n",
        "    else:\n",
        "        print(f\"Error: {response.status_code}\")\n",
        "\n",
        "API_KEY = 'd82a106eb903466e9b5addc0ddda5b7c'\n",
        "api_endpoint = f\"https://newsapi.org/v2/top-headlines?country=us&category=business&apiKey=d82a106eb903466e9b5addc0ddda5b7c\"\n",
        "\n",
        "fetch_and_print_articles(api_endpoint)\n",
        "\n",
        "def jprint(obj):\n",
        "    print(json.dumps(obj, sort_keys=True, indent=4))"
      ],
      "metadata": {
        "colab": {
          "base_uri": "https://localhost:8080/"
        },
        "id": "1O_q-T_us5qA",
        "outputId": "bec952e8-b30a-45f5-a157-83a21649c4f3"
      },
      "execution_count": 7,
      "outputs": [
        {
          "output_type": "stream",
          "name": "stdout",
          "text": [
            "Article 1:\n",
            "{\n",
            "    \"author\": null,\n",
            "    \"content\": \"CAMBRIDGE, Mass.\\r\\n--(BUSINESS WIRE)--Jul. 25, 2025--\\r\\nSarepta Therapeutics, Inc.\\r\\n (NASDAQ:SRPT), the leader in precision genetic medicine for rare diseases, today issued the following statement:\\r\\nJu\\u2026 [+10510 chars]\",\n",
            "    \"description\": \"CAMBRIDGE, Mass. --(BUSINESS WIRE)--Jul. 25, 2025-- Sarepta Therapeutics, Inc. (NASDAQ:SRPT), the leader in precision genetic medicine for rare diseases, today issued the following statement: Just before 6:00 p.m. ET today, the U.S. Food and Drug Administrati\\u2026\",\n",
            "    \"publishedAt\": \"2025-07-25T23:51:00Z\",\n",
            "    \"source\": {\n",
            "        \"id\": null,\n",
            "        \"name\": \"Sarepta.com\"\n",
            "    },\n",
            "    \"title\": \"Sarepta Therapeutics Provides Clarifying Statement on ELEVIDYS - Sarepta Therapeutics\",\n",
            "    \"url\": \"https://investorrelations.sarepta.com/news-releases/news-release-details/sarepta-therapeutics-provides-clarifying-statement-elevidys\",\n",
            "    \"urlToImage\": \"https://investorrelations.sarepta.com/static-files/d0b28561-f14e-4a81-8ebf-739357b1b541\"\n",
            "}\n",
            "\n"
          ]
        }
      ]
    },
    {
      "cell_type": "code",
      "source": [
        "# API Example 3\n",
        "\n",
        "import os\n",
        "import requests\n",
        "# Retrieve the API key from an environment variable\n",
        "#api_key = os.environ.get(\"API_KEY\")\n",
        "api_key = \"d82a106eb903466e9b5addc0ddda5b7c\"\n",
        "# Set up the request headers\n",
        "headers = {\n",
        "\"Authorization\": f\"Bearer {api_key}\"\n",
        "}\n",
        "# Make a sample API request\n",
        "response = requests.get(\"https://newsapi.org/v2/top-headlines?country=us&category=business\", headers=headers)\n",
        "# Check the response status\n",
        "if response.status_code == 200:\n",
        "  print(\"API request successful:\", response.json())\n",
        "else:\n",
        "  print(\"API request failed:\", response.status_code, response.text)"
      ],
      "metadata": {
        "colab": {
          "base_uri": "https://localhost:8080/"
        },
        "id": "fbpISvRg0sjz",
        "outputId": "03f386c7-c085-457b-e3a2-7919c32b9da0"
      },
      "execution_count": 7,
      "outputs": [
        {
          "output_type": "stream",
          "name": "stdout",
          "text": [
            "API request successful: {'status': 'ok', 'totalResults': 33, 'articles': [{'source': {'id': None, 'name': 'Sarepta.com'}, 'author': None, 'title': 'Sarepta Therapeutics Provides Clarifying Statement on ELEVIDYS - Sarepta Therapeutics', 'description': 'CAMBRIDGE, Mass. --(BUSINESS WIRE)--Jul. 25, 2025-- Sarepta Therapeutics, Inc. (NASDAQ:SRPT), the leader in precision genetic medicine for rare diseases, today issued the following statement: Just before 6:00 p.m. ET today, the U.S. Food and Drug Administrati…', 'url': 'https://investorrelations.sarepta.com/news-releases/news-release-details/sarepta-therapeutics-provides-clarifying-statement-elevidys', 'urlToImage': 'https://investorrelations.sarepta.com/static-files/d0b28561-f14e-4a81-8ebf-739357b1b541', 'publishedAt': '2025-07-25T23:51:00Z', 'content': 'CAMBRIDGE, Mass.\\r\\n--(BUSINESS WIRE)--Jul. 25, 2025--\\r\\nSarepta Therapeutics, Inc.\\r\\n (NASDAQ:SRPT), the leader in precision genetic medicine for rare diseases, today issued the following statement:\\r\\nJu… [+10510 chars]'}, {'source': {'id': 'the-washington-post', 'name': 'The Washington Post'}, 'author': 'Andrew Ackerman', 'title': 'How a Fed tour sparked unexpected Trump praise for Powell - The Washington Post', 'description': 'The president’s participation in a tour of the Fed had the makings of a public relations disaster for the central bank. But by Friday, the president was praising Powell.', 'url': 'https://www.washingtonpost.com/business/2025/07/25/trump-powell-federal-reserve-interest-rates/', 'urlToImage': 'https://www.washingtonpost.com/wp-apps/imrs.php?src=https://arc-anglerfish-washpost-prod-washpost.s3.amazonaws.com/public/C4QKBA432QJSXZTYMMG5SASAYI.JPG&w=1440', 'publishedAt': '2025-07-25T23:47:13Z', 'content': 'President Donald Trumps tour of the Federal Reserves expansive office renovations on Thursday had the makings of a public relations disaster for the central bank.\\r\\nInstead, the meeting appeared to si… [+4354 chars]'}, {'source': {'id': 'techcrunch', 'name': 'TechCrunch'}, 'author': \"Sean O'Kane, Kirsten Korosec\", 'title': 'Tesla wants to bring robotaxis to San Francisco. Here’s what’s standing in the way. - TechCrunch', 'description': \"There will be an employee in the driver's seat -- a big change from how things have been working in Austin.\", 'url': 'https://techcrunch.com/2025/07/25/tesla-wants-to-bring-its-robotaxis-to-san-francisco-heres-whats-standing-in-the-way/', 'urlToImage': 'https://techcrunch.com/wp-content/uploads/2024/07/GettyImages-2159532501.jpg?resize=1200,801', 'publishedAt': '2025-07-25T23:41:43Z', 'content': 'Tesla is launching an even-more-limited version of its early robotaxi service in San Francisco this weekend, according to Business Insider, after an initial rollout began last month in Austin, Texas.… [+3857 chars]'}, {'source': {'id': 'al-jazeera-english', 'name': 'Al Jazeera English'}, 'author': 'Al Jazeera Staff', 'title': 'With Trump go-ahead, Skydance and Paramount to complete merger in August - Al Jazeera', 'description': 'The merger has faced scrutiny for what critics view as capitulations to Donald Trump, including a $16m settlement.', 'url': 'https://www.aljazeera.com/news/2025/7/25/with-trump-go-ahead-skydance-and-paramount-to-complete-merger-in-august', 'urlToImage': 'https://www.aljazeera.com/wp-content/uploads/2025/07/2025-07-24T225550Z_724683082_RC27RBACZYM8_RTRMADP_3_PARAMOUNT-GLOBAL-SKYDANCE-FCC-1753477479.jpg?resize=1920%2C1440', 'publishedAt': '2025-07-25T22:55:00Z', 'content': 'The entertainment company Paramount Global is expected to close its $8bn merger agreement with Skydance Media on August 7, a date that marks two weeks after the administration of President Donald Tru… [+6273 chars]'}, {'source': {'id': None, 'name': 'Gizmodo.com'}, 'author': 'AJ Dellinger', 'title': 'UK’s New Age Verification Requirement Thwarted in the Simplest Way Imaginable - Gizmodo', 'description': \"What, you don't want to submit your ID before visiting a porn site?\", 'url': 'https://gizmodo.com/uks-new-age-verification-requirement-thwarted-in-the-simplest-way-imaginable-2000634637', 'urlToImage': 'https://gizmodo.com/app/uploads/2025/07/pornhub-stock-art-1200x675.jpg', 'publishedAt': '2025-07-25T21:58:39Z', 'content': 'Earlier this week, the United Kingdom’s age assurance requirement for sites that publish pornographic material went into effect, which has resulted in everything from Pornhub to Reddit and Discord di… [+2646 chars]'}, {'source': {'id': 'abc-news', 'name': 'ABC News'}, 'author': 'ABC News', 'title': \"Is Elon Musk to blame for Tesla's struggles? Experts weigh in - ABC News\", 'description': None, 'url': 'https://abcnews.go.com/Business/elon-musk-blame-teslas-struggles-experts-weigh/story?id\\\\\\\\u003d124039268', 'urlToImage': None, 'publishedAt': '2025-07-25T21:22:30Z', 'content': None}, {'source': {'id': None, 'name': 'Gizmodo.com'}, 'author': 'Bruce Gil', 'title': 'The Meme Stocks Are Back and May Have Found Their New ‘Roaring Kitty’ - Gizmodo', 'description': 'A Toronto hedge fund manager just accidentally sparked the latest meme stock frenzy.', 'url': 'https://gizmodo.com/the-meme-stocks-are-back-and-may-have-found-their-new-roaring-kitty-2000634756', 'urlToImage': 'https://gizmodo.com/app/uploads/2024/02/1c332b1a599b7d1941ffc77246f713bf.jpg', 'publishedAt': '2025-07-25T20:31:39Z', 'content': 'It seems meme stocks are back, and this time, the latest craze was sparkedsomewhat accidentallyby a Canadian hedge fund manager named Eric Jackson.\\r\\nAbout three weeks ago, Jacksons firm, EMJ Capital,… [+2224 chars]'}, {'source': {'id': None, 'name': 'Yahoo Entertainment'}, 'author': 'Ian King', 'title': 'Intel Slides After New CEO’s Comeback Plan Worries Investors - Yahoo Finance', 'description': '(Bloomberg) -- Shares of Intel Corp. tumbled 8.5% on Friday after Chief Executive Officer Lip-Bu Tan sparked concerns that he was more focused on cost...', 'url': 'https://finance.yahoo.com/news/intel-tumbles-ceo-comeback-plan-172640723.html', 'urlToImage': 'https://s.yimg.com/ny/api/res/1.2/lxbDrKHN3kl2CIMA1J_0SA--/YXBwaWQ9aGlnaGxhbmRlcjt3PTEyMDA7aD04MDA-/https://media.zenfs.com/en/bloomberg_holding_pen_162/ee3abb5148ad9182c09e87ebd1c62fef', 'publishedAt': '2025-07-25T20:31:38Z', 'content': '(Bloomberg) -- Shares of Intel Corp. tumbled 8.5% on Friday after Chief Executive Officer Lip-Bu Tan sparked concerns that he was more focused on cost cutting than restoring the chipmakers technologi… [+7407 chars]'}, {'source': {'id': 'business-insider', 'name': 'Business Insider'}, 'author': 'Sydney Bradley', 'title': 'Tea app that lets women post anonymous dating reviews was hit by a data breach that exposed 72K images - Business Insider', 'description': \"Viral dating advice app Tea experienced a data breach on Friday. It's been at the top of the US Apple App Store this week.\", 'url': 'https://www.businessinsider.com/tea-app-user-selfies-women-data-exposed-breach-2025-7', 'urlToImage': 'https://i.insider.com/6883e11385e81483682eb985?width=1200&format=jpeg', 'publishedAt': '2025-07-25T20:21:00Z', 'content': 'Tea, the anonymous dating advice app for women that has the internet buzzing, is in hot water after a data breach.\\r\\nThousands of images of women, including selfies and photos of IDs that were used to… [+1922 chars]'}, {'source': {'id': None, 'name': 'MarketWatch'}, 'author': 'William Watts', 'title': 'Dow left behind as S&P 500 soars to record after record. What gives? - MarketWatch', 'description': 'The re-emergence of Big Tech and AI plays have seen the blue-chip Dow trail the stock market’s gains', 'url': 'https://www.marketwatch.com/story/dow-left-behind-as-s-p-500-soars-to-record-after-record-what-gives-2c2e6bd4', 'urlToImage': 'https://images.mktw.net/im-60556798/social', 'publishedAt': '2025-07-25T19:50:00Z', 'content': 'William Watts is MarketWatch markets editor. In addition to managing markets coverage, he writes about stocks, bonds, currencies and commodities, including oil. He also writes about global macro issu… [+155 chars]'}, {'source': {'id': None, 'name': 'SFGate'}, 'author': 'Madeline Wells', 'title': 'Bay Area braces for strike at over 100 grocery stores across NorCal - SFGATE', 'description': \"Safeway employees at over 100 stores are slated to go on strike if union leaders don't reach a contract with the company before midnight on Friday.\", 'url': 'https://www.sfgate.com/food/article/bay-area-braces-for-grocery-store-strike-20786444.php', 'urlToImage': 'https://s.hdnux.com/photos/01/32/37/56/23722902/5/rawImage.jpg', 'publishedAt': '2025-07-25T19:31:21Z', 'content': 'A view of the Safeway in Rockridge, a neighborhood in Oakland, Calif., on Wednesday, April 26, 2023.\\xa0\\r\\nDouglas Zimmerman/SFGATE\\r\\nSafeway\\xa0employees across Northern California are slated to go on strik… [+2015 chars]'}, {'source': {'id': 'bloomberg', 'name': 'Bloomberg'}, 'author': \"Ryan Gallagher, Margi Murphy, Patrick Howell O'Neill\", 'title': 'Microsoft Probing Whether Cyber Alert Tipped Off Chinese Hackers - Bloomberg.com', 'description': 'A program to share information with cybersecurity companies may have exposed unpatched flaws in the company’s SharePoint service.', 'url': 'https://www.bloomberg.com/news/articles/2025-07-25/microsoft-sharepoint-hack-probe-on-whether-chinese-hackers-found-flaw-via-alert', 'urlToImage': 'https://assets.bwbx.io/images/users/iqjWHBFdfxIU/i6uCO5IUXWBA/v1/1200x800.jpg', 'publishedAt': '2025-07-25T18:14:59Z', 'content': 'Microsoft Corp. is investigating whether a leak from its early alert system for cybersecurity companies allowed Chinese hackers to exploit flaws in its SharePoint service before they were patched, ac… [+413 chars]'}, {'source': {'id': None, 'name': 'Yahoo Entertainment'}, 'author': 'Nauman khan', 'title': 'Palantir Stock Climb to Record High on Robust Sales and Major Army Contract - Yahoo Finance', 'description': 'Palantir Hits Unprecedented Peak on Back of Key AI Alliances', 'url': 'https://finance.yahoo.com/news/palantir-stock-climb-record-high-174632437.html', 'urlToImage': 'https://media.zenfs.com/en/us.finance.gurufocus/325f48a70dc6c0c52a00317b6f6bc6ba', 'publishedAt': '2025-07-25T17:46:32Z', 'content': 'July 25 - Palantir Technologies (NASDAQ:PLTR) stock climbed to an all?time high of $158 on Friday morning, driven by strong investor demand, reflecting growing confidence in its data analytics platfo… [+1542 chars]'}, {'source': {'id': 'the-verge', 'name': 'The Verge'}, 'author': 'Jay Peters', 'title': 'Want to pay down the national debt? The US government will take Venmo - The Verge', 'description': 'The Treasury Department’s “Gifts to Reduce the Public Debt” website now accepts Venmo as a payment option.', 'url': 'https://www.theverge.com/news/713980/us-national-debt-treasury-department-reduce-pay-venmo', 'urlToImage': 'https://platform.theverge.com/wp-content/uploads/sites/2/2025/01/STKB323_VENMO_D.jpg?quality=90&strip=all&crop=0%2C10.732984293194%2C100%2C78.534031413613&w=1200', 'publishedAt': '2025-07-25T17:19:49Z', 'content': '<ul><li></li><li></li></ul>\\r\\nThe US national debt currently exceeds $36 trillion, but you can help chip away at that with a Venmo payment.\\r\\nThe US national debt currently exceeds $36 trillion, but yo… [+1820 chars]'}, {'source': {'id': 'fortune', 'name': 'Fortune'}, 'author': 'Christiaan Hetzner', 'title': 'Volkswagen seeks audience with Trump, dangling more than $10 billion in U.S. investments in exchange for tariff exemptions - Fortune', 'description': 'The world’s second largest carmaker slashed its 2025 guidance for revenue, margins, and cash citing Q2 headwinds from U.S. tariffs of roughly $1.4 billion.', 'url': 'https://fortune.com/2025/07/25/volkswagen-trump-tariffs-exemptions/', 'urlToImage': 'https://fortune.com/img-assets/wp-content/uploads/2025/07/GettyImages-2203917189-e1753450193902.jpg?resize=1200,600', 'publishedAt': '2025-07-25T16:07:30Z', 'content': 'Oliver Blume wants to make a deal. The CEO of Volkswagen Group, the worlds second-largest carmaker, is prepared to put a minimum of $10 billion on the table in exchange for lower tariffs levied by th… [+4410 chars]'}, {'source': {'id': 'the-wall-street-journal', 'name': 'The Wall Street Journal'}, 'author': 'The Wall Street Journal', 'title': 'Charter Communications’ Modest Growth, Broadband Loss Triggers Steep Sell-Off - The Wall Street Journal', 'description': None, 'url': 'https://www.wsj.com/business/telecom/charter-communications-earnings-rise-with-growth-in-mobile-internet-revenue-6357f7bb', 'urlToImage': None, 'publishedAt': '2025-07-25T16:06:00Z', 'content': None}, {'source': {'id': None, 'name': \"Barron's\"}, 'author': \"Barron's\", 'title': \"Buy Berkshire Hathaway Stock Even Though It’s Losing Warren Buffett - Barron's\", 'description': None, 'url': 'https://www.barrons.com/articles/buy-berkshire-stock-price-pick-0e03cd23', 'urlToImage': None, 'publishedAt': '2025-07-25T16:02:00Z', 'content': None}, {'source': {'id': None, 'name': 'mlive.com'}, 'author': 'Sheri McWhirter | smcwhirter@mlive.com, Garret Ellison | gellison@mlive.com', 'title': 'Michigan is attempting something never done before in America’s nuclear industry - MLive.com', 'description': 'Michigan is navigating a shift in its energy landscape as Palisades nuclear plant is poised to restart.', 'url': 'https://www.mlive.com/environment/2025/07/michigan-is-attempting-something-never-done-before-in-americas-nuclear-industry.html', 'urlToImage': 'https://www.mlive.com/resizer/v2/7NTSYQLC5RBM7BUUWQKC3HIXWQ.jpg?auth=d04f16669fb571388595ccbe6ed1b133cab6b22d516c909872b3ab978f2b9258&width=1280&quality=90', 'publishedAt': '2025-07-25T15:19:00Z', 'content': 'COVERT, MI Federal regulators are poised to approve a restart of the Palisades Nuclear Plant, putting Michigan at the heart of a national nuclear energy renaissance.\\r\\nNuclear power has emerged as a k… [+5596 chars]'}]}\n"
          ]
        }
      ]
    },
    {
      "cell_type": "code",
      "source": [
        "# API Example 4\n",
        "\n",
        "import requests\n",
        "\n",
        "API_URL = \"https://newsapi.org/v2/top-headlines\"\n",
        "API_KEY = \"d82a106eb903466e9b5addc0ddda5b7c\"\n",
        "\n",
        "params = {\n",
        "    \"country\": \"us\",\n",
        "    \"apiKey\": API_KEY,\n",
        "    \"pageSize\": 1\n",
        "}\n",
        "\n",
        "response = requests.get(API_URL, params=params)\n",
        "\n",
        "if response.status_code == 200:\n",
        "    print(f\"TOP News FULL::: \\n\\n{response.json()}\")\n",
        "    print(f\"TOP News are::: \\n\\n{response.json().get('articles', [])}\")\n",
        "else:\n",
        "    print(f\"Error: {response.status_code}\")"
      ],
      "metadata": {
        "colab": {
          "base_uri": "https://localhost:8080/"
        },
        "id": "H2Ve948kO82_",
        "outputId": "03cb9bb4-3968-4eb1-c519-11c2a0596ccc"
      },
      "execution_count": 31,
      "outputs": [
        {
          "output_type": "stream",
          "name": "stdout",
          "text": [
            "TOP News FULL::: \n",
            "\n",
            "{'status': 'ok', 'totalResults': 34, 'articles': [{'source': {'id': 'cnn', 'name': 'CNN'}, 'author': 'Brad Lendon', 'title': 'Thai-Cambodian conflict pits a well-equipped US ally against a weaker adversary with strong China links - CNN', 'description': 'The deadly conflict on the Thai-Cambodian border pits a longtime United States ally with decades of experience against a relatively young armed force with close ties to China.', 'url': 'https://www.cnn.com/2025/07/25/asia/thailand-cambodia-conflict-military-comparison-intl-hnk-ml', 'urlToImage': 'https://media.cnn.com/api/v1/images/stellar/prod/gettyimages-1246329694-20250725081507234.jpg?c=16x9&q=w_800,c_fill', 'publishedAt': '2025-07-26T06:13:00Z', 'content': 'The deadly conflict on the Thai-Cambodian border pits a longtime United States ally with decades of experience against a relatively young armed force with close ties to China.\\r\\nBangkok and Phnom Penh… [+6789 chars]'}]}\n",
            "TOP News are::: \n",
            "\n",
            "[{'source': {'id': 'cnn', 'name': 'CNN'}, 'author': 'Brad Lendon', 'title': 'Thai-Cambodian conflict pits a well-equipped US ally against a weaker adversary with strong China links - CNN', 'description': 'The deadly conflict on the Thai-Cambodian border pits a longtime United States ally with decades of experience against a relatively young armed force with close ties to China.', 'url': 'https://www.cnn.com/2025/07/25/asia/thailand-cambodia-conflict-military-comparison-intl-hnk-ml', 'urlToImage': 'https://media.cnn.com/api/v1/images/stellar/prod/gettyimages-1246329694-20250725081507234.jpg?c=16x9&q=w_800,c_fill', 'publishedAt': '2025-07-26T06:13:00Z', 'content': 'The deadly conflict on the Thai-Cambodian border pits a longtime United States ally with decades of experience against a relatively young armed force with close ties to China.\\r\\nBangkok and Phnom Penh… [+6789 chars]'}]\n"
          ]
        }
      ]
    },
    {
      "cell_type": "code",
      "execution_count": null,
      "metadata": {
        "colab": {
          "base_uri": "https://localhost:8080/"
        },
        "id": "C6NEPdIfX5hF",
        "outputId": "a440c68c-1bf1-45cd-dac9-d05958e29e33"
      },
      "outputs": [
        {
          "name": "stdout",
          "output_type": "stream",
          "text": [
            "5\n",
            "2\n",
            "6\n",
            "1.5\n",
            "1\n",
            "8\n",
            "1\n"
          ]
        }
      ],
      "source": [
        "val1 = 2\n",
        "val2 = 3\n",
        "\n",
        "# using the addition operator\n",
        "count = val1 + val2\n",
        "print(count)\n",
        "\n",
        "num1 = 5\n",
        "num2 = 3\n",
        "\n",
        "# using the subtraction operator\n",
        "res = num1 - num2\n",
        "print(res)\n",
        "\n",
        "num_1 = 2\n",
        "num_2 = 3\n",
        "\n",
        "# using the multiplication operator\n",
        "a = num_1 * num_2\n",
        "print(a)\n",
        "\n",
        "a1 = 3\n",
        "a2 = 2\n",
        "\n",
        "# using the division operator\n",
        "c = a1 / a2\n",
        "print(c)\n",
        "\n",
        "b1 = 3\n",
        "b2 = 2\n",
        "\n",
        "# using the modulus operator\n",
        "d = b1 % b2\n",
        "print(d)\n",
        "\n",
        "c1 = 2\n",
        "c2 = 3\n",
        "\n",
        "# using the exponentiation operator\n",
        "e = c1 ** c2\n",
        "print(e)\n",
        "\n",
        "f1 = 3\n",
        "f2 = 2\n",
        "\n",
        "# using the floor division\n",
        "g = f1 // f2\n",
        "print(g)\n"
      ]
    },
    {
      "cell_type": "code",
      "execution_count": null,
      "metadata": {
        "colab": {
          "base_uri": "https://localhost:8080/"
        },
        "id": "xohwR9tmaKUs",
        "outputId": "e4fc5e64-0b2d-44ea-a6d6-464d2169ad42"
      },
      "outputs": [
        {
          "output_type": "stream",
          "name": "stdout",
          "text": [
            "array('d', [1.1, 3.5, 4.5])\n",
            "Ford\n",
            "Volvo\n",
            "BMW\n"
          ]
        }
      ],
      "source": [
        "# To create an array of numeric values, we need to import the array module.\n",
        "import array as arr\n",
        "a = arr.array('d', [1.1, 3.5, 4.5])\n",
        "print(a)\n",
        "\n",
        "# To loop through all the elements of an array\n",
        "cars = [\"Ford\", \"Volvo\", \"BMW\"]\n",
        "for x in cars:\n",
        "    print(x)\n"
      ]
    },
    {
      "cell_type": "code",
      "execution_count": null,
      "metadata": {
        "colab": {
          "base_uri": "https://localhost:8080/"
        },
        "id": "bXjTcf4MaeEw",
        "outputId": "698707a2-e469-4463-a021-779da364005d"
      },
      "outputs": [
        {
          "name": "stdout",
          "output_type": "stream",
          "text": [
            "admin page\n",
            "admin page\n",
            "page cannot displayed\n"
          ]
        }
      ],
      "source": [
        "# And Operator\n",
        "user = 'admin'\n",
        "login = True\n",
        "if user == 'admin' and login:\n",
        "    print('admin page')\n",
        "else:\n",
        "    print('page cannot be displayed')\n",
        "\n",
        "# Or Operator\n",
        "user = 'admin'\n",
        "login = True\n",
        "if user == 'admin' or login:\n",
        "    print('admin page')\n",
        "else:\n",
        "    print('page cannot be displayed')\n",
        "\n",
        "# Not Operator\n",
        "user = 'admin'\n",
        "login = False\n",
        "if not login:\n",
        "    print('page cannot displayed')\n",
        "else:\n",
        "    print('Welcome admin')\n"
      ]
    },
    {
      "cell_type": "code",
      "execution_count": null,
      "metadata": {
        "colab": {
          "base_uri": "https://localhost:8080/"
        },
        "id": "DvtVnR9oal8w",
        "outputId": "7a3bb4b6-131e-4618-afb7-77283fa932c2"
      },
      "outputs": [
        {
          "name": "stdout",
          "output_type": "stream",
          "text": [
            "61.66\n"
          ]
        }
      ],
      "source": [
        "Variable_1 = '20.75'\n",
        "Variable_2 = '40.91'\n",
        "Variable_1 = float(Variable_1)\n",
        "Variable_2 = float(Variable_2)\n",
        "print(Variable_1 + Variable_2)\n"
      ]
    },
    {
      "cell_type": "code",
      "execution_count": null,
      "metadata": {
        "colab": {
          "base_uri": "https://localhost:8080/"
        },
        "id": "o_W2LUcgaqPw",
        "outputId": "0c2745f3-ee97-4c5d-97f0-323ab3a7586d"
      },
      "outputs": [
        {
          "name": "stdout",
          "output_type": "stream",
          "text": [
            "<class '__main__.MyClass'>\n",
            "5\n",
            "Mark\n",
            "29\n"
          ]
        }
      ],
      "source": [
        "# Create a class named MyClass,\n",
        "\n",
        "class MyClass:\n",
        "    x = 5\n",
        "\n",
        "\n",
        "print(MyClass)\n",
        "\n",
        "# Creating an object\n",
        "\n",
        "\n",
        "class MyClass:\n",
        "    x = 5\n",
        "\n",
        "\n",
        "p1 = MyClass()\n",
        "print(p1.x)\n",
        "\n",
        "# Using the __init__() function to assign values for name and age\n",
        "\n",
        "\n",
        "class Person:\n",
        "    def __init__(self, name, age):\n",
        "        self.name = name\n",
        "        self.age = age\n",
        "\n",
        "\n",
        "p1 = Person(\"Mark\", 29)\n",
        "print(p1.name)\n",
        "print(p1.age)\n"
      ]
    },
    {
      "cell_type": "code",
      "execution_count": null,
      "metadata": {
        "colab": {
          "base_uri": "https://localhost:8080/"
        },
        "id": "fReMyAuoaugB",
        "outputId": "46cc0956-8c06-4af6-8c40-61d62ccbbfa2"
      },
      "outputs": [
        {
          "name": "stdout",
          "output_type": "stream",
          "text": [
            "False\n",
            "True\n",
            "False\n",
            "True\n",
            "False\n",
            "True\n"
          ]
        }
      ],
      "source": [
        "a = 10\n",
        "b = 20\n",
        "\n",
        "# if two operands values are equal,then the condition becomes true.\n",
        "print(a == b)\n",
        "\n",
        "# if two operands values are not equal,then the condition becomes true.\n",
        "print(a != b)\n",
        "\n",
        "# if the value of left operand is greater than the value of right operand, then condition becomes true.\n",
        "print(a > b)\n",
        "\n",
        "# if the value of right operand is less than the value of right operand, then condition becomes true.\n",
        "print(a < b)\n",
        "\n",
        "# if the value of left operand is greater than or equal to the value of right operand, then the condition becomes true.\n",
        "print(a >= b)\n",
        "\n",
        "# if the value of right operand is greater than or equal to the value of left operand, then condition becomes true.\n",
        "print(a <= b)\n"
      ]
    },
    {
      "cell_type": "code",
      "execution_count": null,
      "metadata": {
        "colab": {
          "base_uri": "https://localhost:8080/"
        },
        "id": "0h945s3la8-t",
        "outputId": "639938b6-fd2d-4a1f-9428-c829e2c413d9"
      },
      "outputs": [
        {
          "name": "stdout",
          "output_type": "stream",
          "text": [
            "[1, 2, 3, 4, 5, 6, 7, 8, 9]\n",
            "[1, 4, 9, 16, 25, 36, 49, 64, 81]\n",
            "{'A4': 'Audi', 'CLS': 'Benz', 'X6': 'BMW'}\n",
            "{1, 2, 3, 4, 5, 6, 7, 8, 9}\n"
          ]
        }
      ],
      "source": [
        "# To get 'n' for each 'n in nums using List comprehension\n",
        "\n",
        "nums = [1, 2, 3, 4, 5, 6, 7, 8, 9]\n",
        "my_list = [n for n in nums]\n",
        "print(my_list)\n",
        "\n",
        "# 'n*n' for each 'n' in nums (List comprehension)\n",
        "\n",
        "nums = [1, 2, 3, 4, 5, 6, 7, 8, 9]\n",
        "my_list = [n*n for n in nums]\n",
        "print(my_list)\n",
        "\n",
        "# Using Dictionary comprehension\n",
        "brand = ['Audi', 'Benz', 'BMW']\n",
        "car = ['A4', 'CLS', 'X6']\n",
        "my_dict = {brand: car for brand, car in zip(car, brand)}\n",
        "print(my_dict)\n",
        "\n",
        "# Using Set comprehension\n",
        "nums = {1, 1, 2, 3, 4, 3, 5, 6, 7, 8, 7, 9}\n",
        "my_set = {n for n in nums}\n",
        "print(my_set)\n"
      ]
    },
    {
      "cell_type": "code",
      "execution_count": null,
      "metadata": {
        "id": "ZGhPB4GWbBCV"
      },
      "outputs": [],
      "source": []
    },
    {
      "cell_type": "code",
      "execution_count": null,
      "metadata": {
        "colab": {
          "base_uri": "https://localhost:8080/"
        },
        "id": "sn2Mt5JibNTf",
        "outputId": "aff752f3-11aa-4d5e-8250-3107928649a5"
      },
      "outputs": [
        {
          "name": "stdout",
          "output_type": "stream",
          "text": [
            "[2, 10, 8, 12, 16, 22, 6, 24]\n"
          ]
        }
      ],
      "source": [
        "# Program to double each item in a list using map()\n",
        "\n",
        "my_list = [1, 5, 4, 6, 8, 11, 3, 12]\n",
        "new_list = list(map(lambda x: x * 2, my_list))\n",
        "print(new_list)\n"
      ]
    },
    {
      "cell_type": "code",
      "execution_count": null,
      "metadata": {
        "colab": {
          "base_uri": "https://localhost:8080/"
        },
        "id": "qMvzm2NJbUXq",
        "outputId": "7b455814-b011-4a47-a645-d576ee155160"
      },
      "outputs": [
        {
          "name": "stdout",
          "output_type": "stream",
          "text": [
            "local y\n",
            "global x\n",
            "inner a\n",
            "outer a\n"
          ]
        }
      ],
      "source": [
        "# Using global variable\n",
        "\n",
        "x = 'global x'\n",
        "\n",
        "\n",
        "def test():\n",
        "    y = 'local y'\n",
        "\n",
        "    print(y)\n",
        "\n",
        "\n",
        "test()\n",
        "print(x)\n",
        "\n",
        "# Local variable & Scope\n",
        "\n",
        "\n",
        "def test(z):\n",
        "    print(z)\n",
        "\n",
        "    test('local z')\n",
        "    print(z)\n",
        "\n",
        "# Nested Function\n",
        "\n",
        "\n",
        "def outer():\n",
        "    a = 'outer a'\n",
        "\n",
        "    def inner():\n",
        "        a = 'inner a'\n",
        "        print(a)\n",
        "\n",
        "    inner()\n",
        "    print(a)\n",
        "\n",
        "\n",
        "outer()\n"
      ]
    },
    {
      "cell_type": "code",
      "execution_count": null,
      "metadata": {
        "colab": {
          "base_uri": "https://localhost:8080/"
        },
        "id": "QHf1Wr8LbbmU",
        "outputId": "e126486b-5ca6-44cc-bd75-aef0725e1fac"
      },
      "outputs": [
        {
          "name": "stdout",
          "output_type": "stream",
          "text": [
            "{'Biology', 'Science', 'Math', 'English'}\n",
            "4\n",
            "Science\n",
            "['English', 'Math']\n",
            "['Biology', 'Science']\n"
          ]
        }
      ],
      "source": [
        "# Print list , declared in variable\n",
        "courses = {'English', 'Math', 'Biology', 'Science'}\n",
        "print(courses)\n",
        "# Length function\n",
        "courses = {'English', 'Math', 'Biology', 'Science'}\n",
        "print(len(courses))\n",
        "# To know the specific index value list\n",
        "courses = [\"English\", \"Math\", \"Biology\", \"Science\"]\n",
        "print(courses[3])\n",
        "# To make start and stop index value list\n",
        "courses = [\"English\", \"Math\", \"Biology\", \"Science\"]\n",
        "print(courses[0:2])\n",
        "# Call particular start index list\n",
        "courses = [\"English\", \"Math\", \"Biology\", \"Science\"]\n",
        "print(courses[2:])\n"
      ]
    },
    {
      "cell_type": "code",
      "execution_count": null,
      "metadata": {
        "colab": {
          "base_uri": "https://localhost:8080/"
        },
        "id": "EAUfYflNbkwt",
        "outputId": "3f6f90bf-4abf-414a-d1b7-41a36c3bd024"
      },
      "outputs": [
        {
          "name": "stdout",
          "output_type": "stream",
          "text": [
            "['b', 'c', 'd']\n",
            "[2, 1, 1, 4, 5]\n"
          ]
        }
      ],
      "source": [
        "# removes 'a' from list1\n",
        "list1 = ['a', 'b', 'c', 'd']\n",
        "list1.remove('a')\n",
        "print(list1)\n",
        "\n",
        "# the first presence of 1 is removed from the list\n",
        "list2 = [1, 2, 1, 1, 4, 5]\n",
        "list2.remove(1)\n",
        "print(list2)\n"
      ]
    },
    {
      "cell_type": "code",
      "execution_count": null,
      "metadata": {
        "colab": {
          "base_uri": "https://localhost:8080/"
        },
        "id": "-7UWKemGbuUN",
        "outputId": "f2fa3800-cf0a-40a1-90ff-cd102f13db48"
      },
      "outputs": [
        {
          "name": "stdout",
          "output_type": "stream",
          "text": [
            "['D', 'C', 'B', 'A']\n"
          ]
        }
      ],
      "source": [
        "# To get list in reverse order\n",
        "courses = ['A', 'B', 'C', 'D']\n",
        "courses.reverse()\n",
        "print(courses)\n"
      ]
    },
    {
      "cell_type": "code",
      "execution_count": null,
      "metadata": {
        "colab": {
          "base_uri": "https://localhost:8080/"
        },
        "id": "IrWcctSebyAx",
        "outputId": "81248db3-ca0f-473b-a348-3db70e7264f4"
      },
      "outputs": [
        {
          "name": "stdout",
          "output_type": "stream",
          "text": [
            "[0, 1, 2, 3, 4]\n",
            "[0, 1, 2, 3, 4]\n",
            "[0, 1, 2, 3, 4]\n",
            "[0, 1, 2, 3, 4]\n",
            "[0, 1, 2, 3, 4]\n",
            "5\n",
            "6\n",
            "7\n",
            "8\n",
            "9\n",
            "s\n",
            "t\n",
            "r\n",
            "n\n",
            "g\n",
            "The end\n"
          ]
        }
      ],
      "source": [
        "# For loop\n",
        "nums = [0, 1, 2, 3, 4]\n",
        "for num in nums:\n",
        "    print(nums)\n",
        "\n",
        "# To break loop iteration\n",
        "nums_1 = [5, 6, 7, 8, 9]\n",
        "for nums_1 in nums_1:\n",
        "    print(nums_1)\n",
        "if nums_1 == 4:\n",
        "    print('Found')\n",
        "    breakpoint()\n",
        "    print(nums_1)\n",
        "\n",
        "# Continue Statement and to skip Iteration\n",
        "for val in \"string\":\n",
        "    if val == \"i\":\n",
        "        continue\n",
        "    print(val)\n",
        "\n",
        "print(\"The end\")\n"
      ]
    },
    {
      "cell_type": "code",
      "execution_count": null,
      "metadata": {
        "colab": {
          "background_save": true,
          "base_uri": "https://localhost:8080/"
        },
        "id": "V4c6eRiCb2cM",
        "outputId": "699e08f2-7165-405a-ec73-994fe8a58977"
      },
      "outputs": [
        {
          "name": "stderr",
          "output_type": "stream",
          "text": [
            "\n",
            "PYDEV DEBUGGER WARNING:\n",
            "sys.settrace() should not be used when the debugger is being used.\n",
            "This may cause the debugger to stop working correctly.\n",
            "If this is needed, please check: \n",
            "http://pydev.blogspot.com/2007/06/why-cant-pydev-debugger-work-with.html\n",
            "to see how to restore the debug tracing back correctly.\n",
            "Call Location:\n",
            "  File \"/usr/lib/python3.11/bdb.py\", line 336, in set_trace\n",
            "    sys.settrace(self.trace_dispatch)\n",
            "\n"
          ]
        },
        {
          "name": "stdout",
          "output_type": "stream",
          "text": [
            "a [1, 2, 3]\n",
            "b [1, 2, 3]\n",
            "c [1, 2, 3]\n",
            "a [1, 2, 3]\n",
            "b [1, 2, 3]\n",
            "c [1, 2, 3]\n",
            "a [1, 2, 3]\n",
            "b [1, 2, 3]\n",
            "c [1, 2, 3]\n",
            "0\n",
            "1\n",
            "2\n",
            "3\n",
            "4\n",
            "5\n",
            "6\n",
            "7\n",
            "8\n",
            "9\n",
            "1\n",
            "2\n",
            "3\n",
            "4\n",
            "5\n",
            "6\n",
            "7\n",
            "8\n",
            "9\n",
            "10\n",
            "0\n",
            "1\n",
            "2\n",
            "3\n",
            "4\n",
            "5\n",
            "6\n",
            "7\n",
            "8\n",
            "9\n",
            "> \u001b[0;32m/tmp/ipython-input-15-3084322833.py\u001b[0m(23)\u001b[0;36m<cell line: 0>\u001b[0;34m()\u001b[0m\n",
            "\u001b[0;32m     21 \u001b[0;31m    \u001b[0;32mif\u001b[0m \u001b[0mx\u001b[0m \u001b[0;34m:=\u001b[0m \u001b[0;36m5\u001b[0m\u001b[0;34m:\u001b[0m\u001b[0;34m\u001b[0m\u001b[0;34m\u001b[0m\u001b[0m\n",
            "\u001b[0m\u001b[0;32m     22 \u001b[0;31m        \u001b[0mbreakpoint\u001b[0m\u001b[0;34m(\u001b[0m\u001b[0;34m)\u001b[0m\u001b[0;34m\u001b[0m\u001b[0;34m\u001b[0m\u001b[0m\n",
            "\u001b[0m\u001b[0;32m---> 23 \u001b[0;31m        \u001b[0mprint\u001b[0m\u001b[0;34m(\u001b[0m\u001b[0mx\u001b[0m\u001b[0;34m)\u001b[0m\u001b[0;34m\u001b[0m\u001b[0;34m\u001b[0m\u001b[0m\n",
            "\u001b[0m\u001b[0;32m     24 \u001b[0;31m        \u001b[0mx\u001b[0m \u001b[0;34m+=\u001b[0m \u001b[0;36m1\u001b[0m\u001b[0;34m\u001b[0m\u001b[0;34m\u001b[0m\u001b[0m\n",
            "\u001b[0m\u001b[0;32m     25 \u001b[0;31m\u001b[0;34m\u001b[0m\u001b[0m\n",
            "\u001b[0m\n",
            "<function test at 0x7e7058a8d620>\n",
            "1\n",
            "2\n"
          ]
        }
      ],
      "source": [
        "# Inner loop\n",
        "nums = [1, 2, 3]\n",
        "for num in nums:\n",
        "    for letter in 'abc':\n",
        "        print(letter, nums)\n",
        "\n",
        "# Build in function Range\n",
        "for i in range(10):\n",
        "    print(i)\n",
        "for i in range(1, 11):\n",
        "    print(i)\n",
        "\n",
        "# While loop\n",
        "x = 0\n",
        "while x < 10:\n",
        "    print(x)\n",
        "    x += 1\n",
        "# Break\n",
        "x = 0\n",
        "while x < 10:\n",
        "    if x := 5:\n",
        "        breakpoint()\n",
        "        print(x)\n",
        "        x += 1\n",
        "\n",
        "# Infinite loop\n",
        "a = 0\n",
        "while True:\n",
        "    print(a)\n",
        "    a += 1\n"
      ]
    },
    {
      "cell_type": "code",
      "execution_count": null,
      "metadata": {
        "id": "EnUxVDGZb8C4"
      },
      "outputs": [],
      "source": [
        "nums = [9, 7, 5, 3, 1]\n",
        "print(sum(nums))\n",
        "print(min(nums))\n",
        "print(max(nums))\n"
      ]
    },
    {
      "cell_type": "code",
      "execution_count": null,
      "metadata": {
        "id": "1mkLcOFdcHr3"
      },
      "outputs": [],
      "source": [
        "import pandas as pd\n",
        "import sys\n",
        "import matplotlib.pyplot as plt\n",
        "\n",
        "\n",
        "df = pd.read_csv('test_file.csv')\n",
        "\n",
        "print(df.to_string(index=False))\n",
        "\n",
        "df.plot()\n",
        "\n",
        "plt.show()\n",
        "\n",
        "\n",
        "plt.savefig(sys.stdout.buffer)\n",
        "sys.stdout.flush()\n"
      ]
    },
    {
      "cell_type": "code",
      "execution_count": null,
      "metadata": {
        "id": "BpMX3ML1cNEt"
      },
      "outputs": [],
      "source": [
        "# Let us create a method in the Person class\n",
        "\n",
        "\n",
        "class Person:\n",
        "    def __init__(self, name, age):\n",
        "        self.name = name\n",
        "        self.age = age\n",
        "\n",
        "    def myfunc(self):\n",
        "        print(\"Hello my name is \" + self.name)\n",
        "\n",
        "\n",
        "p1 = Person(\"John\", 35)\n",
        "p1.myfunc()\n"
      ]
    },
    {
      "cell_type": "code",
      "execution_count": null,
      "metadata": {
        "id": "iINOfVJzcX1s"
      },
      "outputs": [],
      "source": [
        "# Sets\n",
        "cs_courses = {'Math', 'History', 'Chemistry', 'Physics'}\n",
        "print(cs_courses)\n",
        "# in function to check the data in set\n",
        "cs_courses = {'Math', 'History', 'Chemistry', 'Physics', 'Math'}\n",
        "print('Math' in cs_courses)\n",
        "\n",
        "# Set, Union Method\n",
        "cs_courses = {'Math', 'History', 'Biology', 'Physics'}\n",
        "art_courses = {'Math', 'Art', 'Chemistry', 'Physics'}\n",
        "print(cs_courses.union(art_courses))\n",
        "\n",
        "# Set, Difference Method\n",
        "cs_courses = {'Math', 'History', 'Biology', 'Physics'}\n",
        "art_courses = {'Math', 'Art', 'Chemistry', 'Physics'}\n",
        "print(cs_courses.difference(art_courses))\n",
        "\n",
        "# Set Intersection Method\n",
        "cs_courses = {'Math', 'History', 'Biology', 'Physics'}\n",
        "art_courses = {'Math', 'Art', 'Chemistry', 'Physics'}\n",
        "print(cs_courses.intersection(art_courses))\n"
      ]
    },
    {
      "cell_type": "code",
      "execution_count": null,
      "metadata": {
        "id": "Q0h31ym6cqNx"
      },
      "outputs": [],
      "source": [
        "# Tuple items - data types\n",
        "tuple1 = (\"apple\", \"banana\", \"cherry\")\n",
        "tuple2 = (1, 5, 7, 9, 3)\n",
        "tuple3 = (True, False, False)\n",
        "\n",
        "print(tuple1)\n",
        "print(tuple2)\n",
        "print(tuple3)\n",
        "\n",
        "# A Tuple with multiple data types\n",
        "tuple1 = (\"abc\", 34, True, 40, \"male\")\n",
        "\n",
        "print(tuple1)\n"
      ]
    },
    {
      "cell_type": "code",
      "execution_count": null,
      "metadata": {
        "id": "U-dtm22TcyZc"
      },
      "outputs": [],
      "source": [
        "a = {1: \"one\", 2: \"three\"}\n",
        "a1 = {2: \"two\"}\n",
        "\n",
        "# updates the value of key 2\n",
        "a.update(a1)\n",
        "\n",
        "print(a)\n",
        "\n",
        "a1 = {3: \"three\"}\n",
        "\n",
        "# adds element with key 3\n",
        "a.update(a1)\n",
        "\n",
        "print(a)\n"
      ]
    },
    {
      "cell_type": "code",
      "execution_count": null,
      "metadata": {
        "id": "oLQXZ9cEc28m"
      },
      "outputs": [],
      "source": [
        "# conversion of int to float\n",
        "x = float(8)\n",
        "\n",
        "\n",
        "# conversion of float to int\n",
        "y = int(5.3)\n",
        "\n",
        "# conversion int to complex\n",
        "z = complex(x)\n",
        "\n",
        "print(x)\n",
        "print(y)\n",
        "print(z)\n",
        "\n",
        "print(type(x))\n",
        "print(type(y))\n",
        "print(type(z))\n"
      ]
    },
    {
      "cell_type": "code",
      "execution_count": null,
      "metadata": {
        "id": "YQUfnlbmc62k"
      },
      "outputs": [],
      "source": [
        "# Importing datetime module and to display current date\n",
        "import datetime\n",
        "\n",
        "x = datetime.datetime.now()\n",
        "print(x)\n",
        "\n",
        "# To get return value of year and name of weekday\n",
        "\n",
        "x = datetime.datetime.now()\n",
        "\n",
        "print(x.year)\n",
        "print(x.strftime(\"%A\"))\n"
      ]
    },
    {
      "cell_type": "code",
      "execution_count": null,
      "metadata": {
        "id": "7YsiLCq6dDpW"
      },
      "outputs": [],
      "source": [
        "# Dictionaries\n",
        "student = {'name': 'charles', 'age': 25, 'course': ['math', 'Biology']}\n",
        "print(student)\n",
        "\n",
        "# Get Method\n",
        "student = {'name': 'charles', 'age': 25, 'course': ['math', 'Biology']}\n",
        "print(student.get('name'))\n",
        "\n",
        "# Adding a new argument\n",
        "student = {'name': 'charles', 'age': 25, 'course': ['math', 'Biology']}\n",
        "print(student.get('phone', 'not found'))\n",
        "\n",
        "# New entry to dictionaries\n",
        "student = {'name': 'charles', 'age': 25, 'course': ['math', 'Biology'], 'phone': '1234_123'}\n",
        "print(student.get('phone', 'not found'))\n"
      ]
    },
    {
      "cell_type": "code",
      "execution_count": null,
      "metadata": {
        "id": "WrPRu6dGdIVo"
      },
      "outputs": [],
      "source": [
        "\n",
        "colors = ['Violet', 'Gray', 'Pink', 'Blue']\n",
        "\n",
        "for item in colors:\n",
        "    print(item)\n",
        "\n",
        "for index, colors in enumerate(colors):\n",
        "    print(index, colors)\n",
        "\n",
        "for index, colors in enumerate(colors, start=1):\n",
        "    print(index, colors)\n"
      ]
    },
    {
      "cell_type": "code",
      "execution_count": null,
      "metadata": {
        "id": "oNMe-hj-dK7i"
      },
      "outputs": [],
      "source": [
        "f = open(\"test_file.csv\", \"a\")\n",
        "f.write('5,70,150,461,10.5\\n6,40,4456,356,67.55')\n",
        "f.close()\n",
        "\n",
        "f = open(\"test_file.csv\", \"r\")\n",
        "print(f.read())\n",
        "f.close()\n"
      ]
    },
    {
      "cell_type": "code",
      "execution_count": null,
      "metadata": {
        "id": "ALrKy6NYdPHK"
      },
      "outputs": [],
      "source": [
        "# Adding a placeholder to display the price\n",
        "\n",
        "price = 49\n",
        "txt = \"The price is {} dollars\"\n",
        "print(txt.format(price))\n",
        "\n",
        "# Price to be displayed with decimal values\n",
        "\n",
        "price = 49\n",
        "txt = \"The price is {:.2f} dollars\"\n",
        "print(txt.format(price))\n",
        "\n",
        "# Adding multiple placeholder to display the price\n",
        "\n",
        "quantity = 3\n",
        "itemno = 567\n",
        "price = 49\n",
        "myorder = \"I want {} pieces of item number {} for {:.2f} dollars.\"\n",
        "print(myorder.format(quantity, itemno, price))\n"
      ]
    },
    {
      "cell_type": "code",
      "execution_count": null,
      "metadata": {
        "id": "5zUZRl4FdSNZ"
      },
      "outputs": [],
      "source": [
        "# Calling a Function\n",
        "def my_function():\n",
        "    print(\"Hello from a function\")\n",
        "\n",
        "\n",
        "my_function()\n",
        "\n",
        "# This function expects 2 arguments and gets 2 arguments\n",
        "\n",
        "\n",
        "def my_function(fname, lname):\n",
        "    print(fname + \" \" + lname)\n",
        "\n",
        "\n",
        "my_function(\"Marc\", \"Jack\")\n",
        "\n",
        "# If the number of arguments is unknown, add a (* args) before the parameter name\n",
        "\n",
        "\n",
        "def my_function(*kids):\n",
        "    print(\"The youngest child is \" + kids[2])\n",
        "\n",
        "\n",
        "my_function(\"Emil\", \"Tobias\", \"Linus\")\n",
        "\n",
        "# If the number of keyword arguments is unknown, add a double (** kwargs) before the parameter name\n",
        "\n",
        "\n",
        "def my_function(**kid):\n",
        "    print(\"His last name is \" + kid[\"lname\"])\n",
        "\n",
        "\n",
        "my_function(fname=\"Tobias\", lname=\"Refsnes\")\n",
        "\n",
        "# To get a return value, use the return statement\n",
        "\n",
        "\n",
        "def my_function(x):\n",
        "    return 5 * x\n",
        "\n",
        "\n",
        "print(my_function(3))\n",
        "print(my_function(5))\n",
        "print(my_function(9))\n"
      ]
    },
    {
      "cell_type": "code",
      "execution_count": null,
      "metadata": {
        "id": "x-BWc5WDdVDs"
      },
      "outputs": [],
      "source": [
        "# Pass Function\n",
        "\n",
        "def hello_func():\n",
        "    pass\n",
        "\n",
        "\n",
        "hello_func()\n",
        "print(hello_func())\n",
        "\n",
        "\n",
        "def hello_func():\n",
        "    hello_func()\n",
        "\n",
        "\n",
        "print(hello_func)\n",
        "\n",
        "# Function allows to reuse ,without repeat\n",
        "\n",
        "\n",
        "def hello_func():\n",
        "    print('hello function!')\n",
        "    hello_func()\n"
      ]
    },
    {
      "cell_type": "code",
      "execution_count": null,
      "metadata": {
        "id": "O4m5KaBLdafl"
      },
      "outputs": [],
      "source": [
        "# Tuples are Immutable & Cannot make any assignment\n",
        "\n",
        "tuple_1 = ('Samsung', 'Sony', 'One plus')\n",
        "tuple_2 = tuple_1\n",
        "print(tuple_1)\n",
        "print(tuple_2)\n"
      ]
    },
    {
      "cell_type": "code",
      "execution_count": null,
      "metadata": {
        "id": "VhyxaEHGddjs"
      },
      "outputs": [],
      "source": [
        "class Parent:\n",
        "    def first(self):\n",
        "        print('first function')\n",
        "\n",
        "\n",
        "class Child(Parent):\n",
        "    def second(self):\n",
        "        print('second function')\n",
        "\n",
        "\n",
        "ob = Child()\n",
        "ob.first()\n",
        "ob.second()\n"
      ]
    },
    {
      "cell_type": "code",
      "execution_count": null,
      "metadata": {
        "id": "4La6qGsbdhu3"
      },
      "outputs": [],
      "source": [
        "# return an iterator from a tuple and print each value\n",
        "mytuple = (\"apple\", \"banana\", \"cherry\")\n",
        "myit = iter(mytuple)\n",
        "\n",
        "print(next(myit))\n",
        "print(next(myit))\n",
        "print(next(myit))\n",
        "\n",
        "# String as an iterator\n",
        "mystr = \"Red\"\n",
        "myit = iter(mystr)\n",
        "\n",
        "print(next(myit))\n",
        "print(next(myit))\n",
        "print(next(myit))\n",
        "\n",
        "# Looping through an iterator\n",
        "mytuple = (\"Gold\", \"Silver\", \"Platinum\")\n",
        "\n",
        "for x in mytuple:\n",
        "    print(x)\n",
        "\n",
        "# Iterate the characters of the string\n",
        "mystr = \"Diamond\"\n",
        "for x in mystr:\n",
        "    print(x)\n",
        "\n",
        "# Iterators that returns number starts from 1 to 5 and sequence increases by one\n",
        "\n",
        "\n",
        "class MyNumbers:\n",
        "    def __iter__(self):\n",
        "        self.a = 1\n",
        "        return self\n",
        "\n",
        "    def __next__(self):\n",
        "        b = self.a\n",
        "        self.a += 1\n",
        "        return b\n",
        "\n",
        "\n",
        "myclass = MyNumbers()\n",
        "myiter = iter(myclass)\n",
        "\n",
        "print(next(myiter))\n",
        "print(next(myiter))\n",
        "print(next(myiter))\n",
        "print(next(myiter))\n",
        "print(next(myiter))\n",
        "\n",
        "# To stop iteration\n",
        "\n",
        "\n",
        "class MyNumbers:\n",
        "    def __iter__(self):\n",
        "        self.a = 1\n",
        "        return self\n",
        "\n",
        "    def __next__(self):\n",
        "        if self.a <= 20:\n",
        "            b = self.a\n",
        "            self.a += 1\n",
        "            return b\n",
        "        else:\n",
        "            raise StopIteration\n",
        "\n",
        "\n",
        "myclass = MyNumbers()\n",
        "myiter = iter(myclass)\n",
        "\n",
        "for x in myiter:\n",
        "    print(x)\n"
      ]
    },
    {
      "cell_type": "code",
      "execution_count": null,
      "metadata": {
        "id": "4ShF0dPZdlY_"
      },
      "outputs": [],
      "source": [
        "# Join Method\n",
        "courses = ['History', 'Math', 'Science', 'English']\n",
        "\n",
        "courses_str = '-' . join(courses)\n",
        "print(courses_str)\n",
        "\n",
        "# Split Method\n",
        "courses = ['History', 'Math', 'Science', 'English']\n",
        "courses_str1 = ',' . join(courses)\n",
        "new_list = courses_str1.split('-')\n",
        "print(courses_str1)\n",
        "print(new_list)\n"
      ]
    },
    {
      "cell_type": "code",
      "execution_count": null,
      "metadata": {
        "id": "en-btmp_doGb"
      },
      "outputs": [],
      "source": [
        "\n",
        "import json\n",
        "# Code to convert JSON to Python\n",
        "# In JSON:\n",
        "x = '{ \"name\":\"Jack\", \"age\":45, \"city\":\"New York\"}'\n",
        "\n",
        "# parse x:\n",
        "y = json.loads(x)\n",
        "\n",
        "# Results Python dictionary:\n",
        "print(y[\"age\"])\n",
        "\n",
        "# Conversion of Python to  JSON\n",
        "# a Python object (dict):\n",
        "x = {\n",
        "  \"name\": \"Fabio\",\n",
        "  \"age\": 32,\n",
        "  \"city\": \"Paris\"\n",
        "}\n",
        "\n",
        "# convert into JSON:\n",
        "y = json.dumps(x)\n",
        "\n",
        "# the result is a JSON string:\n",
        "print(y)\n"
      ]
    },
    {
      "cell_type": "code",
      "execution_count": null,
      "metadata": {
        "id": "pt3dbZ9XdrD_"
      },
      "outputs": [],
      "source": [
        "# Keys\n",
        "student = {'name': 'charles', 'age': 25, 'course': ['math', 'Biology']}\n",
        "print(student. keys())\n",
        "\n",
        "# To show values\n",
        "student = {'name': 'charles', 'age': 25, 'course': ['math', 'Biology']}\n",
        "print(student. values())\n",
        "\n",
        "# To display items\n",
        "student = {'name': 'charles', 'age': 25, 'course': ['math', 'Biology']}\n",
        "print(student. items())\n"
      ]
    },
    {
      "cell_type": "code",
      "execution_count": null,
      "metadata": {
        "id": "lH5LsAJOdt0j"
      },
      "outputs": [],
      "source": []
    }
  ],
  "metadata": {
    "colab": {
      "provenance": [],
      "authorship_tag": "ABX9TyP3RUC45wYvcnV5MXT+iqOY",
      "include_colab_link": true
    },
    "kernelspec": {
      "display_name": "Python 3",
      "name": "python3"
    },
    "language_info": {
      "name": "python"
    }
  },
  "nbformat": 4,
  "nbformat_minor": 0
}